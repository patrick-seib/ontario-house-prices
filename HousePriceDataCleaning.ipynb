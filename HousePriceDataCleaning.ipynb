{
  "nbformat": 4,
  "nbformat_minor": 0,
  "metadata": {
    "colab": {
      "provenance": [],
      "authorship_tag": "ABX9TyOnUoxRfG1g3Q4/UJ9IxH2h",
      "include_colab_link": true
    },
    "kernelspec": {
      "name": "python3",
      "display_name": "Python 3"
    },
    "language_info": {
      "name": "python"
    }
  },
  "cells": [
    {
      "cell_type": "markdown",
      "metadata": {
        "id": "view-in-github",
        "colab_type": "text"
      },
      "source": [
        "<a href=\"https://colab.research.google.com/github/patrick-seib/ontario-house-prices/blob/main/HousePriceDataCleaning.ipynb\" target=\"_parent\"><img src=\"https://colab.research.google.com/assets/colab-badge.svg\" alt=\"Open In Colab\"/></a>"
      ]
    },
    {
      "cell_type": "code",
      "execution_count": 20,
      "metadata": {
        "colab": {
          "base_uri": "https://localhost:8080/"
        },
        "id": "lRBFOIECHyh-",
        "outputId": "4ce30154-dea5-4e55-b4a7-61b4b2ea3164"
      },
      "outputs": [
        {
          "output_type": "stream",
          "name": "stdout",
          "text": [
            "Drive already mounted at /content/drive/; to attempt to forcibly remount, call drive.mount(\"/content/drive/\", force_remount=True).\n"
          ]
        }
      ],
      "source": [
        "import numpy as np\n",
        "import pandas as pd\n",
        "import matplotlib.pyplot as plt\n",
        "from google.colab import drive\n",
        "import folium\n",
        "\n",
        "drive.mount('/content/drive/')\n",
        "df = pd.read_csv('/content/drive/My Drive/416_Data/properties.csv')"
      ]
    },
    {
      "cell_type": "markdown",
      "source": [
        "After loading the data in, it must be shaped such I'm able to work with it later."
      ],
      "metadata": {
        "id": "kuvuOuC0Kuml"
      }
    },
    {
      "cell_type": "code",
      "source": [
        "df.drop(columns='Unnamed: 0', inplace=True)\n",
        "df.rename(columns={'Price ($)':\"Price\"}, inplace=True)\n",
        "print(df.head())\n",
        "print(df.shape)"
      ],
      "metadata": {
        "colab": {
          "base_uri": "https://localhost:8080/"
        },
        "id": "OiEMKLNjKCVP",
        "outputId": "364623b5-7498-4514-8dcd-4e79b99e85b1"
      },
      "execution_count": 21,
      "outputs": [
        {
          "output_type": "stream",
          "name": "stdout",
          "text": [
            "                            Address           AreaName   Price        lat  \\\n",
            "0       86 Waterford Dr Toronto, ON           Richview  999888  43.679882   \n",
            "1  #80 - 100 BEDDOE DR Hamilton, ON     Chedoke Park B  399900  43.250000   \n",
            "2    213 Bowman Street Hamilton, ON  Ainslie Wood East  479000  43.251690   \n",
            "3      102 NEIL Avenue Hamilton, ON          Greenford  285900  43.227161   \n",
            "4   #1409 - 230 King St Toronto, ON           Downtown  362000  43.651478   \n",
            "\n",
            "         lng  \n",
            "0 -79.544266  \n",
            "1 -79.904396  \n",
            "2 -79.919357  \n",
            "3 -79.767403  \n",
            "4 -79.368118  \n",
            "(25351, 5)\n"
          ]
        }
      ]
    },
    {
      "cell_type": "code",
      "source": [
        "def remove_outliers(data, *cols):\n",
        "    for col in cols:\n",
        "        q1 = data[col].quantile(q = 0.25)\n",
        "        q3 = data[col].quantile(q = 0.75) \n",
        "        iqr = q3 - q1\n",
        "        t1 = q1 - 3 * iqr\n",
        "        t2 = q3 + 3 * iqr\n",
        "        data = data[(data[col] > t1) & (data[col] < t2)]\n",
        "    return data\n",
        "    \n",
        "data_c = remove_outliers(df, 'Price','lng', 'lat')"
      ],
      "metadata": {
        "id": "5qcZuYKyKPnz"
      },
      "execution_count": 22,
      "outputs": []
    },
    {
      "cell_type": "code",
      "source": [
        "# Seperate data with/without null:\n",
        "data_withna = data_c.loc[data_c['AreaName'].isna()]\n",
        "data_wona = data_c.loc[data_c['AreaName'].notna()]\n",
        "print(data_withna.shape, data_wona.shape)\n",
        "\n",
        "# Split train/test dataset:\n",
        "from sklearn.model_selection import train_test_split\n",
        "training, testing = train_test_split(data_wona,test_size=0.25, random_state=1)\n",
        "\n",
        "x_train = training.copy()[['lat','lng']]\n",
        "y_train = training.copy()['AreaName']\n",
        "\n",
        "x_test = testing.copy()[['lat','lng']]\n",
        "y_test = testing.copy()['AreaName']\n",
        "\n",
        "print(training.shape)\n",
        "print(testing.shape)"
      ],
      "metadata": {
        "colab": {
          "base_uri": "https://localhost:8080/"
        },
        "id": "3kyZNtwqKioA",
        "outputId": "e46af22d-d5d5-40d3-e7fe-be99a04cff76"
      },
      "execution_count": 23,
      "outputs": [
        {
          "output_type": "stream",
          "name": "stdout",
          "text": [
            "(296, 5) (23497, 5)\n",
            "(17622, 5)\n",
            "(5875, 5)\n"
          ]
        }
      ]
    },
    {
      "cell_type": "code",
      "source": [
        "# Build Random Forest Classifier workflow:\n",
        "from sklearn.preprocessing import PowerTransformer, StandardScaler, PolynomialFeatures\n",
        "from sklearn.pipeline import Pipeline\n",
        "from sklearn.ensemble import RandomForestClassifier \n",
        "rf_model = RandomForestClassifier(criterion='gini',\n",
        "                                  n_jobs=16,\n",
        "                                  max_features = 'auto',\n",
        "                                  n_estimators = 100,\n",
        "                                  max_depth = None,\n",
        "                                  random_state=133)\n",
        "pipe_clf = Pipeline([\n",
        "        ('sc',StandardScaler()),\n",
        "        ('power_trans',PowerTransformer()),\n",
        "        ('polynom_trans',PolynomialFeatures(degree=2)),\n",
        "        ('rf_clf', rf_model)\n",
        "        ])\n",
        "\n",
        "# Fit model & Check the accuracy score of the random forest model:\n",
        "from sklearn.metrics import accuracy_score, precision_score, recall_score, roc_auc_score\n",
        "pipe_clf.fit(x_train,y_train)\n",
        "y_predict = pipe_clf.predict(x_test)\n",
        "print(f'accuracy score is: {accuracy_score(y_test,y_predict)}')"
      ],
      "metadata": {
        "colab": {
          "base_uri": "https://localhost:8080/"
        },
        "id": "PB-vjP-0N_UA",
        "outputId": "62414260-ecf7-4a81-b49c-f0671e672658"
      },
      "execution_count": 24,
      "outputs": [
        {
          "output_type": "stream",
          "name": "stderr",
          "text": [
            "/usr/local/lib/python3.10/dist-packages/sklearn/ensemble/_forest.py:424: FutureWarning: `max_features='auto'` has been deprecated in 1.1 and will be removed in 1.3. To keep the past behaviour, explicitly set `max_features='sqrt'` or remove this parameter as it is also the default value for RandomForestClassifiers and ExtraTreesClassifiers.\n",
            "  warn(\n"
          ]
        },
        {
          "output_type": "stream",
          "name": "stdout",
          "text": [
            "accuracy score is: 0.918468085106383\n"
          ]
        }
      ]
    },
    {
      "cell_type": "code",
      "source": [
        "data_withna['AreaName'] = pipe_clf.predict(data_withna[['lat','lng']])\n",
        "data_withna.head()"
      ],
      "metadata": {
        "colab": {
          "base_uri": "https://localhost:8080/",
          "height": 330
        },
        "id": "irgfkc2oORb8",
        "outputId": "092297f2-58fe-4a31-d9ae-4710e4cafb46"
      },
      "execution_count": 25,
      "outputs": [
        {
          "output_type": "stream",
          "name": "stderr",
          "text": [
            "<ipython-input-25-3c482aa009f6>:1: SettingWithCopyWarning: \n",
            "A value is trying to be set on a copy of a slice from a DataFrame.\n",
            "Try using .loc[row_indexer,col_indexer] = value instead\n",
            "\n",
            "See the caveats in the documentation: https://pandas.pydata.org/pandas-docs/stable/user_guide/indexing.html#returning-a-view-versus-a-copy\n",
            "  data_withna['AreaName'] = pipe_clf.predict(data_withna[['lat','lng']])\n"
          ]
        },
        {
          "output_type": "execute_result",
          "data": {
            "text/plain": [
              "                                                Address     AreaName   Price  \\\n",
              "209                   7393 Wellington Rd 51 . Ariss, ON       Guelph  699000   \n",
              "1186                           152 MARR Drive Elora, ON        Elora  399900   \n",
              "2773                 17 Dan Sheehan Lane Clarington, ON  Bowmanville  550000   \n",
              "2874  328 Wicklow Beach Rd Alnwick Haldimand Townshi...     Colborne  629000   \n",
              "2936     WALKER LAKE DR WALKER LAKE DR Lake Of Bays, ON   Huntsville   69900   \n",
              "\n",
              "            lat        lng  \n",
              "209   43.596718 -80.340660  \n",
              "1186  43.693314 -80.437492  \n",
              "2773  43.931091 -78.707405  \n",
              "2874  43.976543 -77.962921  \n",
              "2936  45.378361 -79.092339  "
            ],
            "text/html": [
              "\n",
              "  <div id=\"df-1fb5089a-eeca-43ad-bf96-b1f4da444e7c\">\n",
              "    <div class=\"colab-df-container\">\n",
              "      <div>\n",
              "<style scoped>\n",
              "    .dataframe tbody tr th:only-of-type {\n",
              "        vertical-align: middle;\n",
              "    }\n",
              "\n",
              "    .dataframe tbody tr th {\n",
              "        vertical-align: top;\n",
              "    }\n",
              "\n",
              "    .dataframe thead th {\n",
              "        text-align: right;\n",
              "    }\n",
              "</style>\n",
              "<table border=\"1\" class=\"dataframe\">\n",
              "  <thead>\n",
              "    <tr style=\"text-align: right;\">\n",
              "      <th></th>\n",
              "      <th>Address</th>\n",
              "      <th>AreaName</th>\n",
              "      <th>Price</th>\n",
              "      <th>lat</th>\n",
              "      <th>lng</th>\n",
              "    </tr>\n",
              "  </thead>\n",
              "  <tbody>\n",
              "    <tr>\n",
              "      <th>209</th>\n",
              "      <td>7393 Wellington Rd 51 . Ariss, ON</td>\n",
              "      <td>Guelph</td>\n",
              "      <td>699000</td>\n",
              "      <td>43.596718</td>\n",
              "      <td>-80.340660</td>\n",
              "    </tr>\n",
              "    <tr>\n",
              "      <th>1186</th>\n",
              "      <td>152 MARR Drive Elora, ON</td>\n",
              "      <td>Elora</td>\n",
              "      <td>399900</td>\n",
              "      <td>43.693314</td>\n",
              "      <td>-80.437492</td>\n",
              "    </tr>\n",
              "    <tr>\n",
              "      <th>2773</th>\n",
              "      <td>17 Dan Sheehan Lane Clarington, ON</td>\n",
              "      <td>Bowmanville</td>\n",
              "      <td>550000</td>\n",
              "      <td>43.931091</td>\n",
              "      <td>-78.707405</td>\n",
              "    </tr>\n",
              "    <tr>\n",
              "      <th>2874</th>\n",
              "      <td>328 Wicklow Beach Rd Alnwick Haldimand Townshi...</td>\n",
              "      <td>Colborne</td>\n",
              "      <td>629000</td>\n",
              "      <td>43.976543</td>\n",
              "      <td>-77.962921</td>\n",
              "    </tr>\n",
              "    <tr>\n",
              "      <th>2936</th>\n",
              "      <td>WALKER LAKE DR WALKER LAKE DR Lake Of Bays, ON</td>\n",
              "      <td>Huntsville</td>\n",
              "      <td>69900</td>\n",
              "      <td>45.378361</td>\n",
              "      <td>-79.092339</td>\n",
              "    </tr>\n",
              "  </tbody>\n",
              "</table>\n",
              "</div>\n",
              "      <button class=\"colab-df-convert\" onclick=\"convertToInteractive('df-1fb5089a-eeca-43ad-bf96-b1f4da444e7c')\"\n",
              "              title=\"Convert this dataframe to an interactive table.\"\n",
              "              style=\"display:none;\">\n",
              "        \n",
              "  <svg xmlns=\"http://www.w3.org/2000/svg\" height=\"24px\"viewBox=\"0 0 24 24\"\n",
              "       width=\"24px\">\n",
              "    <path d=\"M0 0h24v24H0V0z\" fill=\"none\"/>\n",
              "    <path d=\"M18.56 5.44l.94 2.06.94-2.06 2.06-.94-2.06-.94-.94-2.06-.94 2.06-2.06.94zm-11 1L8.5 8.5l.94-2.06 2.06-.94-2.06-.94L8.5 2.5l-.94 2.06-2.06.94zm10 10l.94 2.06.94-2.06 2.06-.94-2.06-.94-.94-2.06-.94 2.06-2.06.94z\"/><path d=\"M17.41 7.96l-1.37-1.37c-.4-.4-.92-.59-1.43-.59-.52 0-1.04.2-1.43.59L10.3 9.45l-7.72 7.72c-.78.78-.78 2.05 0 2.83L4 21.41c.39.39.9.59 1.41.59.51 0 1.02-.2 1.41-.59l7.78-7.78 2.81-2.81c.8-.78.8-2.07 0-2.86zM5.41 20L4 18.59l7.72-7.72 1.47 1.35L5.41 20z\"/>\n",
              "  </svg>\n",
              "      </button>\n",
              "      \n",
              "  <style>\n",
              "    .colab-df-container {\n",
              "      display:flex;\n",
              "      flex-wrap:wrap;\n",
              "      gap: 12px;\n",
              "    }\n",
              "\n",
              "    .colab-df-convert {\n",
              "      background-color: #E8F0FE;\n",
              "      border: none;\n",
              "      border-radius: 50%;\n",
              "      cursor: pointer;\n",
              "      display: none;\n",
              "      fill: #1967D2;\n",
              "      height: 32px;\n",
              "      padding: 0 0 0 0;\n",
              "      width: 32px;\n",
              "    }\n",
              "\n",
              "    .colab-df-convert:hover {\n",
              "      background-color: #E2EBFA;\n",
              "      box-shadow: 0px 1px 2px rgba(60, 64, 67, 0.3), 0px 1px 3px 1px rgba(60, 64, 67, 0.15);\n",
              "      fill: #174EA6;\n",
              "    }\n",
              "\n",
              "    [theme=dark] .colab-df-convert {\n",
              "      background-color: #3B4455;\n",
              "      fill: #D2E3FC;\n",
              "    }\n",
              "\n",
              "    [theme=dark] .colab-df-convert:hover {\n",
              "      background-color: #434B5C;\n",
              "      box-shadow: 0px 1px 3px 1px rgba(0, 0, 0, 0.15);\n",
              "      filter: drop-shadow(0px 1px 2px rgba(0, 0, 0, 0.3));\n",
              "      fill: #FFFFFF;\n",
              "    }\n",
              "  </style>\n",
              "\n",
              "      <script>\n",
              "        const buttonEl =\n",
              "          document.querySelector('#df-1fb5089a-eeca-43ad-bf96-b1f4da444e7c button.colab-df-convert');\n",
              "        buttonEl.style.display =\n",
              "          google.colab.kernel.accessAllowed ? 'block' : 'none';\n",
              "\n",
              "        async function convertToInteractive(key) {\n",
              "          const element = document.querySelector('#df-1fb5089a-eeca-43ad-bf96-b1f4da444e7c');\n",
              "          const dataTable =\n",
              "            await google.colab.kernel.invokeFunction('convertToInteractive',\n",
              "                                                     [key], {});\n",
              "          if (!dataTable) return;\n",
              "\n",
              "          const docLinkHtml = 'Like what you see? Visit the ' +\n",
              "            '<a target=\"_blank\" href=https://colab.research.google.com/notebooks/data_table.ipynb>data table notebook</a>'\n",
              "            + ' to learn more about interactive tables.';\n",
              "          element.innerHTML = '';\n",
              "          dataTable['output_type'] = 'display_data';\n",
              "          await google.colab.output.renderOutput(dataTable, element);\n",
              "          const docLink = document.createElement('div');\n",
              "          docLink.innerHTML = docLinkHtml;\n",
              "          element.appendChild(docLink);\n",
              "        }\n",
              "      </script>\n",
              "    </div>\n",
              "  </div>\n",
              "  "
            ]
          },
          "metadata": {},
          "execution_count": 25
        }
      ]
    },
    {
      "cell_type": "code",
      "source": [
        "data_f = pd.concat([data_wona, data_withna])\n",
        "\n",
        "data_g = data_f.groupby('AreaName').mean()\n",
        "data_g['Count'] = data_f.groupby('AreaName').count()['lat']\n",
        "mean_lat = data_g['lat'].mean()\n",
        "mean_lng = data_g['lng'].mean()\n",
        "\n",
        "data_g.sort_values('Price', ascending=False, inplace=True)\n",
        "\n",
        "print(data_g)"
      ],
      "metadata": {
        "colab": {
          "base_uri": "https://localhost:8080/"
        },
        "id": "ZpWjHIpEOWGV",
        "outputId": "7233a0ef-76e1-4e76-9f7c-6541772c6c6e"
      },
      "execution_count": 26,
      "outputs": [
        {
          "output_type": "stream",
          "name": "stdout",
          "text": [
            "                                          Price        lat        lng  Count\n",
            "AreaName                                                                    \n",
            "Winona                             1.595000e+06  43.213367 -79.656593      1\n",
            "Armour Heights                     1.590000e+06  43.743423 -79.426872      1\n",
            "Yonge and Lawrence                 1.589000e+06  43.728615 -79.402267      1\n",
            "Oro Station                        1.525000e+06  44.423679 -79.549232      1\n",
            "Old Mill                           1.524333e+06  43.651253 -79.493347      3\n",
            "...                                         ...        ...        ...    ...\n",
            "Manitowaning                       1.499900e+04  45.739494 -81.807777      1\n",
            "Trillium Industrial Park           3.800000e+03  43.414257 -80.449989      1\n",
            "Bishop Hellmuth Heritage District  1.883333e+03  42.996292 -81.251495      3\n",
            "North End West                     0.000000e+00  43.269379 -79.865402      1\n",
            "Port Lands                         0.000000e+00  43.647285 -79.351509      1\n",
            "\n",
            "[1053 rows x 4 columns]\n"
          ]
        },
        {
          "output_type": "stream",
          "name": "stderr",
          "text": [
            "<ipython-input-26-d0c2174ee009>:3: FutureWarning: The default value of numeric_only in DataFrameGroupBy.mean is deprecated. In a future version, numeric_only will default to False. Either specify numeric_only or select only columns which should be valid for the function.\n",
            "  data_g = data_f.groupby('AreaName').mean()\n"
          ]
        }
      ]
    },
    {
      "cell_type": "code",
      "source": [
        "filename = 'cleanedHousePrices.csv'\n",
        "\n",
        "data_g.to_csv('/content/drive/MyDrive/416_Data/' + filename)"
      ],
      "metadata": {
        "id": "c1XORcqJOqRq"
      },
      "execution_count": 28,
      "outputs": []
    }
  ]
}